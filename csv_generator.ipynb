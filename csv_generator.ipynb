{
 "cells": [
  {
   "cell_type": "code",
   "execution_count": 1,
   "metadata": {},
   "outputs": [],
   "source": [
    "import pandas as pd\n",
    "import os\n",
    "import requests\n",
    "import json\n",
    "import time"
   ]
  },
  {
   "cell_type": "code",
   "execution_count": 2,
   "metadata": {},
   "outputs": [],
   "source": [
    "def get_token():\n",
    "    with open(\"token.json\", \"r\") as f:\n",
    "        data = json.load(f)\n",
    "    return data[\"token\"]"
   ]
  },
  {
   "cell_type": "code",
   "execution_count": 3,
   "metadata": {},
   "outputs": [],
   "source": [
    "TOKEN = get_token()"
   ]
  },
  {
   "cell_type": "code",
   "execution_count": 4,
   "metadata": {},
   "outputs": [],
   "source": [
    "def api_request(url):\n",
    "    headers = {\n",
    "        \"accept\": \"application/json\",\n",
    "        \"Authorization\": TOKEN\n",
    "    }\n",
    "    \n",
    "    cnt = 0\n",
    "    while cnt <= 5:\n",
    "        try:\n",
    "            response = requests.get(url, headers=headers)\n",
    "            if response.status_code == requests.codes.ok:\n",
    "                return response.text\n",
    "        except requests.exceptions.RequestException as e:\n",
    "            time.sleep(0.5)\n",
    "            cnt += 1\n",
    "    raise Exception(\"request failed!\")"
   ]
  },
  {
   "cell_type": "code",
   "execution_count": 5,
   "metadata": {},
   "outputs": [],
   "source": [
    "def get_tmdb_info(imdbId):\n",
    "    data_raw = api_request(f\"https://api.themoviedb.org/3/find/{imdbId}?external_source=imdb_id\")\n",
    "    data = json.loads(data_raw)\n",
    "    try:\n",
    "        tmdbId = data['movie_results'][0]['id']\n",
    "    except:\n",
    "        return (0, 0, 0, 0, 0)\n",
    "    \n",
    "    data_raw = api_request(f\"https://api.themoviedb.org/3/movie/{tmdbId}?language=en-US\") \n",
    "    data = json.loads(data_raw)\n",
    "    try:\n",
    "        print(data['original_title'])\n",
    "        \n",
    "        adult = data['adult']\n",
    "        budget = data['budget']\n",
    "        revenue = data['revenue']\n",
    "        voteAverage = data['vote_average']\n",
    "        voteCount = data['vote_count']\n",
    "    except:\n",
    "        return (0, 0, 0, 0, 0)\n",
    "    \n",
    "    return adult, budget, revenue, voteAverage, voteCount"
   ]
  },
  {
   "cell_type": "code",
   "execution_count": 6,
   "metadata": {},
   "outputs": [
    {
     "data": {
      "text/plain": [
       "(0, 0, 0, 0, 0)"
      ]
     },
     "execution_count": 6,
     "metadata": {},
     "output_type": "execute_result"
    }
   ],
   "source": [
    "get_tmdb_info(\"tt0152267\")"
   ]
  },
  {
   "cell_type": "code",
   "execution_count": 7,
   "metadata": {},
   "outputs": [
    {
     "name": "stderr",
     "output_type": "stream",
     "text": [
      "C:\\Users\\danpf\\AppData\\Local\\Temp\\ipykernel_24444\\440346353.py:3: DtypeWarning: Columns (7) have mixed types. Specify dtype option on import or set low_memory=False.\n",
      "  imdb_titles = pd.read_csv(f'raw/title.basics.tsv', sep='\\t', na_values=\"\\\\N\")\n"
     ]
    }
   ],
   "source": [
    "# do IMDb stuff\n",
    "imdb_ratings = pd.read_csv(f'raw/title.ratings.tsv', sep='\\t', na_values=\"\\\\N\")\n",
    "imdb_titles = pd.read_csv(f'raw/title.basics.tsv', sep='\\t', na_values=\"\\\\N\")\n",
    "\n",
    "imdb_merged = pd.merge(\n",
    "    imdb_titles[imdb_titles['titleType'] == 'movie'],\n",
    "    imdb_ratings,\n",
    "    on='tconst',\n",
    ").fillna({'averageRating': -1, 'numVotes': -1, 'runtimeMinutes': -1, 'genres': ''})"
   ]
  },
  {
   "cell_type": "code",
   "execution_count": 8,
   "metadata": {},
   "outputs": [
    {
     "name": "stdout",
     "output_type": "stream",
     "text": [
      "imdb titles total: 1530505\n",
      "imdb movies with complete information (rating and runtime): 324690\n"
     ]
    }
   ],
   "source": [
    "imdb_merged = imdb_merged[\n",
    "    (imdb_merged['averageRating'] != -1) &\n",
    "    (imdb_merged[\"numVotes\"] != -1) &\n",
    "    (imdb_merged[\"runtimeMinutes\"] != 1)\n",
    "]\n",
    "\n",
    "print(f\"imdb titles total: {imdb_ratings.shape[0]}\")\n",
    "print(f\"imdb movies with complete information (rating and runtime): {imdb_merged.shape[0]}\")"
   ]
  },
  {
   "cell_type": "code",
   "execution_count": 9,
   "metadata": {},
   "outputs": [],
   "source": [
    "imdb_merged['startYear'] = imdb_merged['startYear'].astype(str)\n",
    "imdb_merged['startYear'] = imdb_merged['startYear'].str[:4]"
   ]
  },
  {
   "cell_type": "code",
   "execution_count": 10,
   "metadata": {},
   "outputs": [],
   "source": [
    "imdb_merged = imdb_merged.rename(columns={\"tconst\": \"imdbId\", \"averageRating\": \"imdbScore\", \"numVotes\": \"imdbNumVotes\"})"
   ]
  },
  {
   "cell_type": "code",
   "execution_count": 11,
   "metadata": {},
   "outputs": [
    {
     "data": {
      "text/html": [
       "<div>\n",
       "<style scoped>\n",
       "    .dataframe tbody tr th:only-of-type {\n",
       "        vertical-align: middle;\n",
       "    }\n",
       "\n",
       "    .dataframe tbody tr th {\n",
       "        vertical-align: top;\n",
       "    }\n",
       "\n",
       "    .dataframe thead th {\n",
       "        text-align: right;\n",
       "    }\n",
       "</style>\n",
       "<table border=\"1\" class=\"dataframe\">\n",
       "  <thead>\n",
       "    <tr style=\"text-align: right;\">\n",
       "      <th></th>\n",
       "      <th>imdbId</th>\n",
       "      <th>titleType</th>\n",
       "      <th>primaryTitle</th>\n",
       "      <th>originalTitle</th>\n",
       "      <th>isAdult</th>\n",
       "      <th>startYear</th>\n",
       "      <th>endYear</th>\n",
       "      <th>runtimeMinutes</th>\n",
       "      <th>genres</th>\n",
       "      <th>imdbScore</th>\n",
       "      <th>imdbNumVotes</th>\n",
       "    </tr>\n",
       "  </thead>\n",
       "  <tbody>\n",
       "    <tr>\n",
       "      <th>0</th>\n",
       "      <td>tt0000009</td>\n",
       "      <td>movie</td>\n",
       "      <td>Miss Jerry</td>\n",
       "      <td>Miss Jerry</td>\n",
       "      <td>0.0</td>\n",
       "      <td>1894</td>\n",
       "      <td>NaN</td>\n",
       "      <td>45.0</td>\n",
       "      <td>Romance</td>\n",
       "      <td>5.4</td>\n",
       "      <td>218</td>\n",
       "    </tr>\n",
       "    <tr>\n",
       "      <th>1</th>\n",
       "      <td>tt0000147</td>\n",
       "      <td>movie</td>\n",
       "      <td>The Corbett-Fitzsimmons Fight</td>\n",
       "      <td>The Corbett-Fitzsimmons Fight</td>\n",
       "      <td>0.0</td>\n",
       "      <td>1897</td>\n",
       "      <td>NaN</td>\n",
       "      <td>100.0</td>\n",
       "      <td>Documentary,News,Sport</td>\n",
       "      <td>5.3</td>\n",
       "      <td>549</td>\n",
       "    </tr>\n",
       "    <tr>\n",
       "      <th>2</th>\n",
       "      <td>tt0000502</td>\n",
       "      <td>movie</td>\n",
       "      <td>Bohemios</td>\n",
       "      <td>Bohemios</td>\n",
       "      <td>0.0</td>\n",
       "      <td>1905</td>\n",
       "      <td>NaN</td>\n",
       "      <td>100.0</td>\n",
       "      <td></td>\n",
       "      <td>3.8</td>\n",
       "      <td>20</td>\n",
       "    </tr>\n",
       "    <tr>\n",
       "      <th>3</th>\n",
       "      <td>tt0000574</td>\n",
       "      <td>movie</td>\n",
       "      <td>The Story of the Kelly Gang</td>\n",
       "      <td>The Story of the Kelly Gang</td>\n",
       "      <td>0.0</td>\n",
       "      <td>1906</td>\n",
       "      <td>NaN</td>\n",
       "      <td>70.0</td>\n",
       "      <td>Action,Adventure,Biography</td>\n",
       "      <td>6.0</td>\n",
       "      <td>969</td>\n",
       "    </tr>\n",
       "    <tr>\n",
       "      <th>4</th>\n",
       "      <td>tt0000591</td>\n",
       "      <td>movie</td>\n",
       "      <td>The Prodigal Son</td>\n",
       "      <td>L'enfant prodigue</td>\n",
       "      <td>0.0</td>\n",
       "      <td>1907</td>\n",
       "      <td>NaN</td>\n",
       "      <td>90.0</td>\n",
       "      <td>Drama</td>\n",
       "      <td>5.6</td>\n",
       "      <td>30</td>\n",
       "    </tr>\n",
       "  </tbody>\n",
       "</table>\n",
       "</div>"
      ],
      "text/plain": [
       "      imdbId titleType                   primaryTitle  \\\n",
       "0  tt0000009     movie                     Miss Jerry   \n",
       "1  tt0000147     movie  The Corbett-Fitzsimmons Fight   \n",
       "2  tt0000502     movie                       Bohemios   \n",
       "3  tt0000574     movie    The Story of the Kelly Gang   \n",
       "4  tt0000591     movie               The Prodigal Son   \n",
       "\n",
       "                   originalTitle  isAdult startYear  endYear runtimeMinutes  \\\n",
       "0                     Miss Jerry      0.0      1894      NaN           45.0   \n",
       "1  The Corbett-Fitzsimmons Fight      0.0      1897      NaN          100.0   \n",
       "2                       Bohemios      0.0      1905      NaN          100.0   \n",
       "3    The Story of the Kelly Gang      0.0      1906      NaN           70.0   \n",
       "4              L'enfant prodigue      0.0      1907      NaN           90.0   \n",
       "\n",
       "                       genres  imdbScore  imdbNumVotes  \n",
       "0                     Romance        5.4           218  \n",
       "1      Documentary,News,Sport        5.3           549  \n",
       "2                                    3.8            20  \n",
       "3  Action,Adventure,Biography        6.0           969  \n",
       "4                       Drama        5.6            30  "
      ]
     },
     "execution_count": 11,
     "metadata": {},
     "output_type": "execute_result"
    }
   ],
   "source": [
    "imdb_merged.head()"
   ]
  },
  {
   "cell_type": "code",
   "execution_count": 12,
   "metadata": {},
   "outputs": [],
   "source": [
    "# Rotten Tomatoes stuff\n",
    "reviews_df = pd.read_csv(f\"raw/rotten_tomatoes_movie_reviews.csv\")\n",
    "movies_df = pd.read_csv(f\"raw/rotten_tomatoes_movies.csv\")\n",
    "\n",
    "tomatoes_merged = pd.merge(\n",
    "    movies_df[['id', 'title', 'audienceScore', 'tomatoMeter', 'releaseDateTheaters']],\n",
    "    reviews_df[['id', 'creationDate', 'reviewState']],\n",
    "    on='id'\n",
    ").fillna({'tomatoMeter': -1, 'audienceScore': -1, 'releaseDateTheaters': -1})"
   ]
  },
  {
   "cell_type": "code",
   "execution_count": 13,
   "metadata": {},
   "outputs": [],
   "source": [
    "tomatoes_merged['releaseYear'] = tomatoes_merged['releaseDateTheaters'].str[:4]"
   ]
  },
  {
   "cell_type": "code",
   "execution_count": 14,
   "metadata": {},
   "outputs": [],
   "source": [
    "tomatoes_merged = tomatoes_merged[\n",
    "    (tomatoes_merged['tomatoMeter'] != -1) &\n",
    "    (tomatoes_merged['audienceScore'] != -1) &\n",
    "    (tomatoes_merged['releaseDateTheaters'] != -1)\n",
    "]"
   ]
  },
  {
   "cell_type": "code",
   "execution_count": 19,
   "metadata": {},
   "outputs": [
    {
     "name": "stdout",
     "output_type": "stream",
     "text": [
      "rotten tomatoes movies: 143258\n",
      "rotten tomatoes movies with ratings: 69263\n"
     ]
    }
   ],
   "source": [
    "print(f\"rotten tomatoes movies: {movies_df.shape[0]}\")\n",
    "print(f\"rotten tomatoes movies with ratings: {len(reviews_df['id'].unique())}\")"
   ]
  },
  {
   "cell_type": "code",
   "execution_count": 20,
   "metadata": {},
   "outputs": [
    {
     "name": "stderr",
     "output_type": "stream",
     "text": [
      "C:\\Users\\danpf\\AppData\\Local\\Temp\\ipykernel_24444\\4215766069.py:17: DeprecationWarning: DataFrameGroupBy.apply operated on the grouping columns. This behavior is deprecated, and in a future version of pandas the grouping columns will be excluded from the operation. Either pass `include_groups=False` to exclude the groupings or explicitly select the grouping columns after groupby to silence this warning.\n",
      "  score_dicts = yearly_data.groupby(\"id\").apply(\n",
      "C:\\Users\\danpf\\AppData\\Local\\Temp\\ipykernel_24444\\4215766069.py:21: DeprecationWarning: DataFrameGroupBy.apply operated on the grouping columns. This behavior is deprecated, and in a future version of pandas the grouping columns will be excluded from the operation. Either pass `include_groups=False` to exclude the groupings or explicitly select the grouping columns after groupby to silence this warning.\n",
      "  review_count_dicts = yearly_data.groupby(\"id\").apply(\n"
     ]
    }
   ],
   "source": [
    "# Convert reviewState to numerical values\n",
    "tomatoes_merged[\"score\"] = tomatoes_merged[\"reviewState\"].map({\"fresh\": 10, \"rotten\": 0})\n",
    "\n",
    "# Extract year from creationDate\n",
    "tomatoes_merged[\"year\"] = pd.to_datetime(tomatoes_merged[\"creationDate\"]).dt.year\n",
    "\n",
    "# Group by id and year, compute the average score and count reviews\n",
    "yearly_data = tomatoes_merged.groupby([\"id\", \"year\"]).agg(\n",
    "    avg_score=(\"score\", \"mean\"),\n",
    "    num_reviews=(\"score\", \"count\")\n",
    ").reset_index()\n",
    "\n",
    "# Round scores and convert to integers\n",
    "yearly_data[\"avg_score\"] = yearly_data[\"avg_score\"].round().astype(int)\n",
    "\n",
    "# Convert to dictionary format\n",
    "score_dicts = yearly_data.groupby(\"id\").apply(\n",
    "    lambda x: json.dumps(dict(zip(x[\"year\"], x[\"avg_score\"])), separators=(\",\", \":\"))\n",
    ").reset_index()\n",
    "\n",
    "review_count_dicts = yearly_data.groupby(\"id\").apply(\n",
    "    lambda x: json.dumps(dict(zip(x[\"year\"], x[\"num_reviews\"])), separators=(\",\", \":\"))\n",
    ").reset_index()\n",
    "\n",
    "# Compute total number of reviews for each movie\n",
    "total_reviews = tomatoes_merged.groupby(\"id\")[\"score\"].count().reset_index()\n",
    "total_reviews.rename(columns={\"score\": \"rottenTomatoesNumVotes\"}, inplace=True)\n",
    "\n",
    "# Merge with unique movie data\n",
    "unique_movies = tomatoes_merged.drop_duplicates(subset=[\"id\"])[\n",
    "    [\"id\", \"title\", \"audienceScore\", \"tomatoMeter\", \"releaseDateTheaters\", \"releaseYear\"]\n",
    "]\n",
    "\n",
    "tomatoes_new = unique_movies.merge(score_dicts, on=\"id\").merge(review_count_dicts, on=\"id\").merge(total_reviews, on=\"id\")\n",
    "tomatoes_new.rename(columns={0: \"yearly_scores\", 1: \"yearlyNumReviews\"}, inplace=True)"
   ]
  },
  {
   "cell_type": "code",
   "execution_count": 21,
   "metadata": {},
   "outputs": [],
   "source": [
    "tomatoes_new = tomatoes_new.rename(columns={\"0_x\": \"rottenTomatoesReviews\", \"0_y\": \"rottenTomatoesReviewsNumVotes\"})"
   ]
  },
  {
   "cell_type": "code",
   "execution_count": 22,
   "metadata": {},
   "outputs": [
    {
     "data": {
      "text/html": [
       "<div>\n",
       "<style scoped>\n",
       "    .dataframe tbody tr th:only-of-type {\n",
       "        vertical-align: middle;\n",
       "    }\n",
       "\n",
       "    .dataframe tbody tr th {\n",
       "        vertical-align: top;\n",
       "    }\n",
       "\n",
       "    .dataframe thead th {\n",
       "        text-align: right;\n",
       "    }\n",
       "</style>\n",
       "<table border=\"1\" class=\"dataframe\">\n",
       "  <thead>\n",
       "    <tr style=\"text-align: right;\">\n",
       "      <th></th>\n",
       "      <th>id</th>\n",
       "      <th>title</th>\n",
       "      <th>audienceScore</th>\n",
       "      <th>tomatoMeter</th>\n",
       "      <th>releaseDateTheaters</th>\n",
       "      <th>releaseYear</th>\n",
       "      <th>rottenTomatoesReviews</th>\n",
       "      <th>rottenTomatoesReviewsNumVotes</th>\n",
       "      <th>rottenTomatoesNumVotes</th>\n",
       "    </tr>\n",
       "  </thead>\n",
       "  <tbody>\n",
       "    <tr>\n",
       "      <th>0</th>\n",
       "      <td>adrift_2018</td>\n",
       "      <td>Adrift</td>\n",
       "      <td>65.0</td>\n",
       "      <td>69.0</td>\n",
       "      <td>2018-06-01</td>\n",
       "      <td>2018</td>\n",
       "      <td>{\"2018\":0,\"2019\":7,\"2020\":5,\"2021\":5,\"2022\":10}</td>\n",
       "      <td>{\"2018\":4,\"2019\":19,\"2020\":11,\"2021\":4,\"2022\":2}</td>\n",
       "      <td>40</td>\n",
       "    </tr>\n",
       "    <tr>\n",
       "      <th>1</th>\n",
       "      <td>1035316-born_to_kill</td>\n",
       "      <td>Born to Kill</td>\n",
       "      <td>74.0</td>\n",
       "      <td>83.0</td>\n",
       "      <td>1947-04-30</td>\n",
       "      <td>1947</td>\n",
       "      <td>{\"2003\":0,\"2005\":10,\"2006\":10,\"2016\":10,\"2020\"...</td>\n",
       "      <td>{\"2003\":1,\"2005\":1,\"2006\":2,\"2016\":1,\"2020\":1}</td>\n",
       "      <td>6</td>\n",
       "    </tr>\n",
       "    <tr>\n",
       "      <th>2</th>\n",
       "      <td>1221483-paa</td>\n",
       "      <td>Paa</td>\n",
       "      <td>67.0</td>\n",
       "      <td>50.0</td>\n",
       "      <td>2009-12-04</td>\n",
       "      <td>2009</td>\n",
       "      <td>{\"2009\":6,\"2017\":0,\"2019\":0,\"2020\":10}</td>\n",
       "      <td>{\"2009\":5,\"2017\":1,\"2019\":1,\"2020\":1}</td>\n",
       "      <td>8</td>\n",
       "    </tr>\n",
       "    <tr>\n",
       "      <th>3</th>\n",
       "      <td>sarah_palin_you_betcha</td>\n",
       "      <td>Sarah Palin: You Betcha!</td>\n",
       "      <td>61.0</td>\n",
       "      <td>32.0</td>\n",
       "      <td>2011-09-30</td>\n",
       "      <td>2011</td>\n",
       "      <td>{\"2011\":3}</td>\n",
       "      <td>{\"2011\":31}</td>\n",
       "      <td>31</td>\n",
       "    </tr>\n",
       "    <tr>\n",
       "      <th>4</th>\n",
       "      <td>a_state_of_mind_2005</td>\n",
       "      <td>A State of Mind</td>\n",
       "      <td>92.0</td>\n",
       "      <td>89.0</td>\n",
       "      <td>2005-08-10</td>\n",
       "      <td>2005</td>\n",
       "      <td>{\"2005\":10,\"2006\":10,\"2007\":3}</td>\n",
       "      <td>{\"2005\":22,\"2006\":2,\"2007\":3}</td>\n",
       "      <td>27</td>\n",
       "    </tr>\n",
       "  </tbody>\n",
       "</table>\n",
       "</div>"
      ],
      "text/plain": [
       "                       id                     title  audienceScore  \\\n",
       "0             adrift_2018                    Adrift           65.0   \n",
       "1    1035316-born_to_kill              Born to Kill           74.0   \n",
       "2             1221483-paa                       Paa           67.0   \n",
       "3  sarah_palin_you_betcha  Sarah Palin: You Betcha!           61.0   \n",
       "4    a_state_of_mind_2005           A State of Mind           92.0   \n",
       "\n",
       "   tomatoMeter releaseDateTheaters releaseYear  \\\n",
       "0         69.0          2018-06-01        2018   \n",
       "1         83.0          1947-04-30        1947   \n",
       "2         50.0          2009-12-04        2009   \n",
       "3         32.0          2011-09-30        2011   \n",
       "4         89.0          2005-08-10        2005   \n",
       "\n",
       "                               rottenTomatoesReviews  \\\n",
       "0    {\"2018\":0,\"2019\":7,\"2020\":5,\"2021\":5,\"2022\":10}   \n",
       "1  {\"2003\":0,\"2005\":10,\"2006\":10,\"2016\":10,\"2020\"...   \n",
       "2             {\"2009\":6,\"2017\":0,\"2019\":0,\"2020\":10}   \n",
       "3                                         {\"2011\":3}   \n",
       "4                     {\"2005\":10,\"2006\":10,\"2007\":3}   \n",
       "\n",
       "                      rottenTomatoesReviewsNumVotes  rottenTomatoesNumVotes  \n",
       "0  {\"2018\":4,\"2019\":19,\"2020\":11,\"2021\":4,\"2022\":2}                      40  \n",
       "1    {\"2003\":1,\"2005\":1,\"2006\":2,\"2016\":1,\"2020\":1}                       6  \n",
       "2             {\"2009\":5,\"2017\":1,\"2019\":1,\"2020\":1}                       8  \n",
       "3                                       {\"2011\":31}                      31  \n",
       "4                     {\"2005\":22,\"2006\":2,\"2007\":3}                      27  "
      ]
     },
     "execution_count": 22,
     "metadata": {},
     "output_type": "execute_result"
    }
   ],
   "source": [
    "tomatoes_new.head()"
   ]
  },
  {
   "cell_type": "code",
   "execution_count": 56,
   "metadata": {},
   "outputs": [],
   "source": [
    "filtered_df = pd.merge(\n",
    "    imdb_merged,\n",
    "    tomatoes_new,\n",
    "    left_on=['primaryTitle', 'startYear'],\n",
    "    right_on=['title', 'releaseYear'],\n",
    "    how='inner'\n",
    ")"
   ]
  },
  {
   "cell_type": "code",
   "execution_count": 57,
   "metadata": {},
   "outputs": [],
   "source": [
    "filtered_df = filtered_df.drop(columns=['primaryTitle', 'releaseYear', 'titleType', 'isAdult', 'endYear', 'id', 'originalTitle'])"
   ]
  },
  {
   "cell_type": "code",
   "execution_count": 58,
   "metadata": {},
   "outputs": [],
   "source": [
    "filtered_df = filtered_df.rename(columns={\"tconst\": \"imdbId\"})"
   ]
  },
  {
   "cell_type": "code",
   "execution_count": 59,
   "metadata": {},
   "outputs": [
    {
     "name": "stdout",
     "output_type": "stream",
     "text": [
      "number of movies from rotten tomatoes and IMDb merge data: 12268\n"
     ]
    }
   ],
   "source": [
    "print(f\"number of movies from rotten tomatoes and IMDb merge data: {filtered_df.shape[0]}\")"
   ]
  },
  {
   "cell_type": "code",
   "execution_count": 60,
   "metadata": {},
   "outputs": [
    {
     "data": {
      "text/html": [
       "<div>\n",
       "<style scoped>\n",
       "    .dataframe tbody tr th:only-of-type {\n",
       "        vertical-align: middle;\n",
       "    }\n",
       "\n",
       "    .dataframe tbody tr th {\n",
       "        vertical-align: top;\n",
       "    }\n",
       "\n",
       "    .dataframe thead th {\n",
       "        text-align: right;\n",
       "    }\n",
       "</style>\n",
       "<table border=\"1\" class=\"dataframe\">\n",
       "  <thead>\n",
       "    <tr style=\"text-align: right;\">\n",
       "      <th></th>\n",
       "      <th>imdbId</th>\n",
       "      <th>startYear</th>\n",
       "      <th>runtimeMinutes</th>\n",
       "      <th>genres</th>\n",
       "      <th>imdbScore</th>\n",
       "      <th>imdbNumVotes</th>\n",
       "      <th>title</th>\n",
       "      <th>audienceScore</th>\n",
       "      <th>tomatoMeter</th>\n",
       "      <th>releaseDateTheaters</th>\n",
       "      <th>rottenTomatoesReviews</th>\n",
       "      <th>rottenTomatoesReviewsNumVotes</th>\n",
       "      <th>rottenTomatoesNumVotes</th>\n",
       "    </tr>\n",
       "  </thead>\n",
       "  <tbody>\n",
       "    <tr>\n",
       "      <th>0</th>\n",
       "      <td>tt0004707</td>\n",
       "      <td>1914</td>\n",
       "      <td>82.0</td>\n",
       "      <td>Comedy</td>\n",
       "      <td>6.2</td>\n",
       "      <td>3791</td>\n",
       "      <td>Tillie's Punctured Romance</td>\n",
       "      <td>42.0</td>\n",
       "      <td>90.0</td>\n",
       "      <td>1914-11-14</td>\n",
       "      <td>{\"2007\":10,\"2008\":10,\"2009\":5,\"2010\":10,\"2020\"...</td>\n",
       "      <td>{\"2007\":2,\"2008\":1,\"2009\":2,\"2010\":1,\"2020\":3,...</td>\n",
       "      <td>10</td>\n",
       "    </tr>\n",
       "    <tr>\n",
       "      <th>1</th>\n",
       "      <td>tt0004972</td>\n",
       "      <td>1915</td>\n",
       "      <td>195.0</td>\n",
       "      <td>Drama,War</td>\n",
       "      <td>6.1</td>\n",
       "      <td>27113</td>\n",
       "      <td>The Birth of a Nation</td>\n",
       "      <td>54.0</td>\n",
       "      <td>91.0</td>\n",
       "      <td>1915-03-03</td>\n",
       "      <td>{\"2000\":10,\"2001\":10,\"2002\":10,\"2003\":8,\"2004\"...</td>\n",
       "      <td>{\"2000\":1,\"2001\":2,\"2002\":6,\"2003\":5,\"2004\":5,...</td>\n",
       "      <td>42</td>\n",
       "    </tr>\n",
       "    <tr>\n",
       "      <th>2</th>\n",
       "      <td>tt0005078</td>\n",
       "      <td>1915</td>\n",
       "      <td>59.0</td>\n",
       "      <td>Drama,Romance</td>\n",
       "      <td>6.5</td>\n",
       "      <td>2913</td>\n",
       "      <td>The Cheat</td>\n",
       "      <td>47.0</td>\n",
       "      <td>90.0</td>\n",
       "      <td>1915-12-12</td>\n",
       "      <td>{\"2004\":10,\"2005\":10,\"2006\":0,\"2008\":10,\"2019\"...</td>\n",
       "      <td>{\"2004\":1,\"2005\":2,\"2006\":1,\"2008\":1,\"2019\":4,...</td>\n",
       "      <td>10</td>\n",
       "    </tr>\n",
       "    <tr>\n",
       "      <th>3</th>\n",
       "      <td>tt0005960</td>\n",
       "      <td>1915</td>\n",
       "      <td>72.0</td>\n",
       "      <td>Biography,Crime,Drama</td>\n",
       "      <td>6.8</td>\n",
       "      <td>1484</td>\n",
       "      <td>The Regeneration</td>\n",
       "      <td>69.0</td>\n",
       "      <td>100.0</td>\n",
       "      <td>1915-09-13</td>\n",
       "      <td>{\"2005\":10,\"2013\":10}</td>\n",
       "      <td>{\"2005\":1,\"2013\":2}</td>\n",
       "      <td>3</td>\n",
       "    </tr>\n",
       "    <tr>\n",
       "      <th>4</th>\n",
       "      <td>tt0006864</td>\n",
       "      <td>1916</td>\n",
       "      <td>163.0</td>\n",
       "      <td>Drama,History</td>\n",
       "      <td>7.7</td>\n",
       "      <td>17240</td>\n",
       "      <td>Intolerance</td>\n",
       "      <td>77.0</td>\n",
       "      <td>97.0</td>\n",
       "      <td>1916-09-05</td>\n",
       "      <td>{\"2000\":10,\"2002\":7,\"2003\":10,\"2004\":10,\"2005\"...</td>\n",
       "      <td>{\"2000\":2,\"2002\":3,\"2003\":4,\"2004\":6,\"2005\":2,...</td>\n",
       "      <td>38</td>\n",
       "    </tr>\n",
       "  </tbody>\n",
       "</table>\n",
       "</div>"
      ],
      "text/plain": [
       "      imdbId startYear runtimeMinutes                 genres  imdbScore  \\\n",
       "0  tt0004707      1914           82.0                 Comedy        6.2   \n",
       "1  tt0004972      1915          195.0              Drama,War        6.1   \n",
       "2  tt0005078      1915           59.0          Drama,Romance        6.5   \n",
       "3  tt0005960      1915           72.0  Biography,Crime,Drama        6.8   \n",
       "4  tt0006864      1916          163.0          Drama,History        7.7   \n",
       "\n",
       "   imdbNumVotes                       title  audienceScore  tomatoMeter  \\\n",
       "0          3791  Tillie's Punctured Romance           42.0         90.0   \n",
       "1         27113       The Birth of a Nation           54.0         91.0   \n",
       "2          2913                   The Cheat           47.0         90.0   \n",
       "3          1484            The Regeneration           69.0        100.0   \n",
       "4         17240                 Intolerance           77.0         97.0   \n",
       "\n",
       "  releaseDateTheaters                              rottenTomatoesReviews  \\\n",
       "0          1914-11-14  {\"2007\":10,\"2008\":10,\"2009\":5,\"2010\":10,\"2020\"...   \n",
       "1          1915-03-03  {\"2000\":10,\"2001\":10,\"2002\":10,\"2003\":8,\"2004\"...   \n",
       "2          1915-12-12  {\"2004\":10,\"2005\":10,\"2006\":0,\"2008\":10,\"2019\"...   \n",
       "3          1915-09-13                              {\"2005\":10,\"2013\":10}   \n",
       "4          1916-09-05  {\"2000\":10,\"2002\":7,\"2003\":10,\"2004\":10,\"2005\"...   \n",
       "\n",
       "                       rottenTomatoesReviewsNumVotes  rottenTomatoesNumVotes  \n",
       "0  {\"2007\":2,\"2008\":1,\"2009\":2,\"2010\":1,\"2020\":3,...                      10  \n",
       "1  {\"2000\":1,\"2001\":2,\"2002\":6,\"2003\":5,\"2004\":5,...                      42  \n",
       "2  {\"2004\":1,\"2005\":2,\"2006\":1,\"2008\":1,\"2019\":4,...                      10  \n",
       "3                                {\"2005\":1,\"2013\":2}                       3  \n",
       "4  {\"2000\":2,\"2002\":3,\"2003\":4,\"2004\":6,\"2005\":2,...                      38  "
      ]
     },
     "execution_count": 60,
     "metadata": {},
     "output_type": "execute_result"
    }
   ],
   "source": [
    "filtered_df.head()"
   ]
  },
  {
   "cell_type": "code",
   "execution_count": 28,
   "metadata": {},
   "outputs": [],
   "source": [
    "filtered_df.to_csv(\"raw/temp.csv\")"
   ]
  },
  {
   "cell_type": "code",
   "execution_count": 125,
   "metadata": {},
   "outputs": [],
   "source": [
    "# TMDB STUFF"
   ]
  },
  {
   "cell_type": "code",
   "execution_count": 31,
   "metadata": {},
   "outputs": [
    {
     "name": "stdout",
     "output_type": "stream",
     "text": [
      "found existing csv file\n"
     ]
    }
   ],
   "source": [
    "if os.path.isfile(\"processed/tmdb.csv\"):\n",
    "    print(\"found existing csv file\")\n",
    "    tmdb = pd.read_csv(\"processed/tmdb.csv\")\n",
    "else:\n",
    "    tmdb = filtered_df[['imdbId']]\n",
    "\n",
    "    print(f\"fetching api data for {tmdb.shape[0]} movies\")\n",
    "    tmdb['raw'] = tmdb['imdbId'].apply(get_tmdb_info)\n",
    "\n",
    "    tmdb['isAdult'], tmdb['budget'], tmdb['revenue'], tmdb['tmdbAverageScore'], tmdb['tmdbNumVotes'] = zip(*tmdb.raw)\n",
    "    tmdb = tmdb.drop(columns=['raw'])\n",
    "\n",
    "    tmdb = tmdb[\n",
    "        (tmdb['budget'] != 0) &\n",
    "        (tmdb['revenue'] != 0)\n",
    "    ]\n",
    "\n",
    "    print(f\"tmdb shape: {tmdb.shape}\")\n",
    "    tmdb.head()\n",
    "    tmdb.to_csv(\"tmdb.csv\")"
   ]
  },
  {
   "cell_type": "code",
   "execution_count": 61,
   "metadata": {},
   "outputs": [
    {
     "name": "stdout",
     "output_type": "stream",
     "text": [
      "number of movies with information about budget and revenue: 5603\n"
     ]
    }
   ],
   "source": [
    "print(f\"number of movies with information about budget and revenue: {tmdb.shape[0]}\")"
   ]
  },
  {
   "cell_type": "code",
   "execution_count": 187,
   "metadata": {},
   "outputs": [],
   "source": [
    "final_df = pd.merge(\n",
    "    filtered_df,\n",
    "    tmdb,\n",
    "    how=\"inner\",\n",
    "    on=\"imdbId\",\n",
    ")"
   ]
  },
  {
   "cell_type": "code",
   "execution_count": 188,
   "metadata": {},
   "outputs": [
    {
     "name": "stdout",
     "output_type": "stream",
     "text": [
      "final shape: (5607, 18)\n"
     ]
    },
    {
     "data": {
      "text/html": [
       "<div>\n",
       "<style scoped>\n",
       "    .dataframe tbody tr th:only-of-type {\n",
       "        vertical-align: middle;\n",
       "    }\n",
       "\n",
       "    .dataframe tbody tr th {\n",
       "        vertical-align: top;\n",
       "    }\n",
       "\n",
       "    .dataframe thead th {\n",
       "        text-align: right;\n",
       "    }\n",
       "</style>\n",
       "<table border=\"1\" class=\"dataframe\">\n",
       "  <thead>\n",
       "    <tr style=\"text-align: right;\">\n",
       "      <th></th>\n",
       "      <th>imdbId</th>\n",
       "      <th>startYear</th>\n",
       "      <th>runtimeMinutes</th>\n",
       "      <th>genres</th>\n",
       "      <th>imdbScore</th>\n",
       "      <th>imdbNumVotes</th>\n",
       "      <th>title</th>\n",
       "      <th>audienceScore</th>\n",
       "      <th>tomatoMeter</th>\n",
       "      <th>releaseDateTheaters</th>\n",
       "      <th>rottenTomatoesReviews</th>\n",
       "      <th>rottenTomatoesReviewsNumVotes</th>\n",
       "      <th>rottenTomatoesNumVotes</th>\n",
       "      <th>isAdult</th>\n",
       "      <th>budget</th>\n",
       "      <th>revenue</th>\n",
       "      <th>tmdbAverageScore</th>\n",
       "      <th>tmdbNumVotes</th>\n",
       "    </tr>\n",
       "  </thead>\n",
       "  <tbody>\n",
       "    <tr>\n",
       "      <th>0</th>\n",
       "      <td>tt0004972</td>\n",
       "      <td>1915</td>\n",
       "      <td>195.0</td>\n",
       "      <td>Drama,War</td>\n",
       "      <td>6.1</td>\n",
       "      <td>27113</td>\n",
       "      <td>The Birth of a Nation</td>\n",
       "      <td>54.0</td>\n",
       "      <td>91.0</td>\n",
       "      <td>1915-03-03</td>\n",
       "      <td>{\"2000\":10,\"2001\":10,\"2002\":10,\"2003\":8,\"2004\"...</td>\n",
       "      <td>{\"2000\":1,\"2001\":2,\"2002\":6,\"2003\":5,\"2004\":5,...</td>\n",
       "      <td>42</td>\n",
       "      <td>False</td>\n",
       "      <td>100000</td>\n",
       "      <td>11000000</td>\n",
       "      <td>6.0</td>\n",
       "      <td>542</td>\n",
       "    </tr>\n",
       "    <tr>\n",
       "      <th>1</th>\n",
       "      <td>tt0005078</td>\n",
       "      <td>1915</td>\n",
       "      <td>59.0</td>\n",
       "      <td>Drama,Romance</td>\n",
       "      <td>6.5</td>\n",
       "      <td>2913</td>\n",
       "      <td>The Cheat</td>\n",
       "      <td>47.0</td>\n",
       "      <td>90.0</td>\n",
       "      <td>1915-12-12</td>\n",
       "      <td>{\"2004\":10,\"2005\":10,\"2006\":0,\"2008\":10,\"2019\"...</td>\n",
       "      <td>{\"2004\":1,\"2005\":2,\"2006\":1,\"2008\":1,\"2019\":4,...</td>\n",
       "      <td>10</td>\n",
       "      <td>False</td>\n",
       "      <td>17311</td>\n",
       "      <td>137365</td>\n",
       "      <td>5.9</td>\n",
       "      <td>64</td>\n",
       "    </tr>\n",
       "    <tr>\n",
       "      <th>2</th>\n",
       "      <td>tt0006864</td>\n",
       "      <td>1916</td>\n",
       "      <td>163.0</td>\n",
       "      <td>Drama,History</td>\n",
       "      <td>7.7</td>\n",
       "      <td>17240</td>\n",
       "      <td>Intolerance</td>\n",
       "      <td>77.0</td>\n",
       "      <td>97.0</td>\n",
       "      <td>1916-09-05</td>\n",
       "      <td>{\"2000\":10,\"2002\":7,\"2003\":10,\"2004\":10,\"2005\"...</td>\n",
       "      <td>{\"2000\":2,\"2002\":3,\"2003\":4,\"2004\":6,\"2005\":2,...</td>\n",
       "      <td>38</td>\n",
       "      <td>False</td>\n",
       "      <td>385907</td>\n",
       "      <td>1750000</td>\n",
       "      <td>7.1</td>\n",
       "      <td>341</td>\n",
       "    </tr>\n",
       "    <tr>\n",
       "      <th>3</th>\n",
       "      <td>tt0012349</td>\n",
       "      <td>1921</td>\n",
       "      <td>68.0</td>\n",
       "      <td>Comedy,Drama,Family</td>\n",
       "      <td>8.2</td>\n",
       "      <td>139644</td>\n",
       "      <td>The Kid</td>\n",
       "      <td>95.0</td>\n",
       "      <td>100.0</td>\n",
       "      <td>1921-01-21</td>\n",
       "      <td>{\"2003\":10,\"2004\":10,\"2005\":10,\"2006\":10,\"2008...</td>\n",
       "      <td>{\"2003\":1,\"2004\":10,\"2005\":3,\"2006\":3,\"2008\":3...</td>\n",
       "      <td>50</td>\n",
       "      <td>False</td>\n",
       "      <td>250000</td>\n",
       "      <td>2500000</td>\n",
       "      <td>8.2</td>\n",
       "      <td>2137</td>\n",
       "    </tr>\n",
       "    <tr>\n",
       "      <th>4</th>\n",
       "      <td>tt0013140</td>\n",
       "      <td>1922</td>\n",
       "      <td>117.0</td>\n",
       "      <td>Drama,Thriller</td>\n",
       "      <td>7.0</td>\n",
       "      <td>4163</td>\n",
       "      <td>Foolish Wives</td>\n",
       "      <td>70.0</td>\n",
       "      <td>89.0</td>\n",
       "      <td>1922-01-11</td>\n",
       "      <td>{\"2000\":10,\"2003\":10,\"2004\":10,\"2005\":10,\"2006...</td>\n",
       "      <td>{\"2000\":1,\"2003\":1,\"2004\":3,\"2005\":2,\"2006\":1,...</td>\n",
       "      <td>18</td>\n",
       "      <td>False</td>\n",
       "      <td>1100000</td>\n",
       "      <td>400200</td>\n",
       "      <td>6.6</td>\n",
       "      <td>90</td>\n",
       "    </tr>\n",
       "  </tbody>\n",
       "</table>\n",
       "</div>"
      ],
      "text/plain": [
       "      imdbId startYear runtimeMinutes               genres  imdbScore  \\\n",
       "0  tt0004972      1915          195.0            Drama,War        6.1   \n",
       "1  tt0005078      1915           59.0        Drama,Romance        6.5   \n",
       "2  tt0006864      1916          163.0        Drama,History        7.7   \n",
       "3  tt0012349      1921           68.0  Comedy,Drama,Family        8.2   \n",
       "4  tt0013140      1922          117.0       Drama,Thriller        7.0   \n",
       "\n",
       "   imdbNumVotes                  title  audienceScore  tomatoMeter  \\\n",
       "0         27113  The Birth of a Nation           54.0         91.0   \n",
       "1          2913              The Cheat           47.0         90.0   \n",
       "2         17240            Intolerance           77.0         97.0   \n",
       "3        139644                The Kid           95.0        100.0   \n",
       "4          4163          Foolish Wives           70.0         89.0   \n",
       "\n",
       "  releaseDateTheaters                              rottenTomatoesReviews  \\\n",
       "0          1915-03-03  {\"2000\":10,\"2001\":10,\"2002\":10,\"2003\":8,\"2004\"...   \n",
       "1          1915-12-12  {\"2004\":10,\"2005\":10,\"2006\":0,\"2008\":10,\"2019\"...   \n",
       "2          1916-09-05  {\"2000\":10,\"2002\":7,\"2003\":10,\"2004\":10,\"2005\"...   \n",
       "3          1921-01-21  {\"2003\":10,\"2004\":10,\"2005\":10,\"2006\":10,\"2008...   \n",
       "4          1922-01-11  {\"2000\":10,\"2003\":10,\"2004\":10,\"2005\":10,\"2006...   \n",
       "\n",
       "                       rottenTomatoesReviewsNumVotes  rottenTomatoesNumVotes  \\\n",
       "0  {\"2000\":1,\"2001\":2,\"2002\":6,\"2003\":5,\"2004\":5,...                      42   \n",
       "1  {\"2004\":1,\"2005\":2,\"2006\":1,\"2008\":1,\"2019\":4,...                      10   \n",
       "2  {\"2000\":2,\"2002\":3,\"2003\":4,\"2004\":6,\"2005\":2,...                      38   \n",
       "3  {\"2003\":1,\"2004\":10,\"2005\":3,\"2006\":3,\"2008\":3...                      50   \n",
       "4  {\"2000\":1,\"2003\":1,\"2004\":3,\"2005\":2,\"2006\":1,...                      18   \n",
       "\n",
       "  isAdult   budget   revenue  tmdbAverageScore  tmdbNumVotes  \n",
       "0   False   100000  11000000               6.0           542  \n",
       "1   False    17311    137365               5.9            64  \n",
       "2   False   385907   1750000               7.1           341  \n",
       "3   False   250000   2500000               8.2          2137  \n",
       "4   False  1100000    400200               6.6            90  "
      ]
     },
     "execution_count": 188,
     "metadata": {},
     "output_type": "execute_result"
    }
   ],
   "source": [
    "print(f\"final shape: {final_df.shape}\")\n",
    "final_df.head()"
   ]
  },
  {
   "cell_type": "code",
   "execution_count": null,
   "metadata": {},
   "outputs": [],
   "source": [
    "final_df.to_csv('processed/movies.csv')"
   ]
  }
 ],
 "metadata": {
  "kernelspec": {
   "display_name": "Python 3",
   "language": "python",
   "name": "python3"
  },
  "language_info": {
   "codemirror_mode": {
    "name": "ipython",
    "version": 3
   },
   "file_extension": ".py",
   "mimetype": "text/x-python",
   "name": "python",
   "nbconvert_exporter": "python",
   "pygments_lexer": "ipython3",
   "version": "3.10.11"
  }
 },
 "nbformat": 4,
 "nbformat_minor": 2
}

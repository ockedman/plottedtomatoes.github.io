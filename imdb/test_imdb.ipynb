{
 "cells": [
  {
   "cell_type": "code",
   "execution_count": 1,
   "metadata": {},
   "outputs": [],
   "source": [
    "from imdb import IMDb"
   ]
  },
  {
   "cell_type": "code",
   "execution_count": 2,
   "metadata": {},
   "outputs": [],
   "source": [
    "imdb = IMDb()"
   ]
  },
  {
   "cell_type": "code",
   "execution_count": null,
   "metadata": {},
   "outputs": [
    {
     "name": "stderr",
     "output_type": "stream",
     "text": [
      "c:\\Users\\danpf\\DataViz_FS25\\Plotted-Tomatoes\\imdb\\imdb.py:16: DtypeWarning: Columns (4) have mixed types. Specify dtype option on import or set low_memory=False.\n",
      "  titles_df = pd.read_csv('raw/title.basics.tsv', sep='\\t')\n"
     ]
    }
   ],
   "source": [
    "imdb.load_tsvs()"
   ]
  },
  {
   "cell_type": "code",
   "execution_count": 43,
   "metadata": {},
   "outputs": [
    {
     "data": {
      "text/plain": [
       "primaryTitle     Interstellar\n",
       "startYear                2014\n",
       "averageRating             8.7\n",
       "numVotes              2271208\n",
       "Name: 411533, dtype: object"
      ]
     },
     "execution_count": 43,
     "metadata": {},
     "output_type": "execute_result"
    }
   ],
   "source": [
    "imdb.get_movie_by_title(\"Interstellar\")"
   ]
  },
  {
   "cell_type": "code",
   "execution_count": 44,
   "metadata": {},
   "outputs": [
    {
     "data": {
      "text/html": [
       "<div>\n",
       "<style scoped>\n",
       "    .dataframe tbody tr th:only-of-type {\n",
       "        vertical-align: middle;\n",
       "    }\n",
       "\n",
       "    .dataframe tbody tr th {\n",
       "        vertical-align: top;\n",
       "    }\n",
       "\n",
       "    .dataframe thead th {\n",
       "        text-align: right;\n",
       "    }\n",
       "</style>\n",
       "<table border=\"1\" class=\"dataframe\">\n",
       "  <thead>\n",
       "    <tr style=\"text-align: right;\">\n",
       "      <th></th>\n",
       "      <th>primaryTitle</th>\n",
       "      <th>startYear</th>\n",
       "      <th>averageRating</th>\n",
       "      <th>numVotes</th>\n",
       "    </tr>\n",
       "  </thead>\n",
       "  <tbody>\n",
       "    <tr>\n",
       "      <th>756513</th>\n",
       "      <td>Dune: Part Two</td>\n",
       "      <td>2024</td>\n",
       "      <td>8.5</td>\n",
       "      <td>591800</td>\n",
       "    </tr>\n",
       "    <tr>\n",
       "      <th>1085636</th>\n",
       "      <td>The Wild Robot</td>\n",
       "      <td>2024</td>\n",
       "      <td>8.2</td>\n",
       "      <td>127389</td>\n",
       "    </tr>\n",
       "    <tr>\n",
       "      <th>618517</th>\n",
       "      <td>Wicked</td>\n",
       "      <td>2024</td>\n",
       "      <td>7.7</td>\n",
       "      <td>119378</td>\n",
       "    </tr>\n",
       "    <tr>\n",
       "      <th>1360679</th>\n",
       "      <td>Deadpool &amp; Wolverine</td>\n",
       "      <td>2024</td>\n",
       "      <td>7.6</td>\n",
       "      <td>461256</td>\n",
       "    </tr>\n",
       "    <tr>\n",
       "      <th>944378</th>\n",
       "      <td>Inside Out 2</td>\n",
       "      <td>2024</td>\n",
       "      <td>7.6</td>\n",
       "      <td>202465</td>\n",
       "    </tr>\n",
       "    <tr>\n",
       "      <th>588013</th>\n",
       "      <td>Furiosa: A Mad Max Saga</td>\n",
       "      <td>2024</td>\n",
       "      <td>7.5</td>\n",
       "      <td>265608</td>\n",
       "    </tr>\n",
       "    <tr>\n",
       "      <th>1277845</th>\n",
       "      <td>Nosferatu</td>\n",
       "      <td>2024</td>\n",
       "      <td>7.4</td>\n",
       "      <td>131011</td>\n",
       "    </tr>\n",
       "    <tr>\n",
       "      <th>833616</th>\n",
       "      <td>The Substance</td>\n",
       "      <td>2024</td>\n",
       "      <td>7.3</td>\n",
       "      <td>230191</td>\n",
       "    </tr>\n",
       "    <tr>\n",
       "      <th>803816</th>\n",
       "      <td>Challengers</td>\n",
       "      <td>2024</td>\n",
       "      <td>7.1</td>\n",
       "      <td>141898</td>\n",
       "    </tr>\n",
       "    <tr>\n",
       "      <th>856124</th>\n",
       "      <td>Alien: Romulus</td>\n",
       "      <td>2024</td>\n",
       "      <td>7.1</td>\n",
       "      <td>221033</td>\n",
       "    </tr>\n",
       "  </tbody>\n",
       "</table>\n",
       "</div>"
      ],
      "text/plain": [
       "                    primaryTitle startYear  averageRating  numVotes\n",
       "756513            Dune: Part Two      2024            8.5    591800\n",
       "1085636           The Wild Robot      2024            8.2    127389\n",
       "618517                    Wicked      2024            7.7    119378\n",
       "1360679     Deadpool & Wolverine      2024            7.6    461256\n",
       "944378              Inside Out 2      2024            7.6    202465\n",
       "588013   Furiosa: A Mad Max Saga      2024            7.5    265608\n",
       "1277845                Nosferatu      2024            7.4    131011\n",
       "833616             The Substance      2024            7.3    230191\n",
       "803816               Challengers      2024            7.1    141898\n",
       "856124            Alien: Romulus      2024            7.1    221033"
      ]
     },
     "execution_count": 44,
     "metadata": {},
     "output_type": "execute_result"
    }
   ],
   "source": [
    "imdb.get_top_rated_movies(10, 100000, 2024)"
   ]
  }
 ],
 "metadata": {
  "kernelspec": {
   "display_name": "Python 3",
   "language": "python",
   "name": "python3"
  },
  "language_info": {
   "codemirror_mode": {
    "name": "ipython",
    "version": 3
   },
   "file_extension": ".py",
   "mimetype": "text/x-python",
   "name": "python",
   "nbconvert_exporter": "python",
   "pygments_lexer": "ipython3",
   "version": "3.10.11"
  }
 },
 "nbformat": 4,
 "nbformat_minor": 2
}

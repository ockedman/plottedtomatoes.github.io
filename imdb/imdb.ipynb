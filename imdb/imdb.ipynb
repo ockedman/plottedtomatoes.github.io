{
 "cells": [
  {
   "cell_type": "code",
   "execution_count": 3,
   "metadata": {},
   "outputs": [
    {
     "name": "stderr",
     "output_type": "stream",
     "text": [
      "C:\\Users\\danpf\\AppData\\Local\\Temp\\ipykernel_11152\\3026406390.py:1: DeprecationWarning: \n",
      "Pyarrow will become a required dependency of pandas in the next major release of pandas (pandas 3.0),\n",
      "(to allow more performant data types, such as the Arrow string type, and better interoperability with other libraries)\n",
      "but was not found to be installed on your system.\n",
      "If this would cause problems for you,\n",
      "please provide us feedback at https://github.com/pandas-dev/pandas/issues/54466\n",
      "        \n",
      "  import pandas as pd\n"
     ]
    }
   ],
   "source": [
    "import pandas as pd\n",
    "import os"
   ]
  },
  {
   "cell_type": "code",
   "execution_count": 4,
   "metadata": {},
   "outputs": [],
   "source": [
    "assert(os.path.exists(\"raw/title.ratings.tsv\"))\n",
    "assert(os.path.exists(\"raw/title.basics.tsv\"))"
   ]
  },
  {
   "cell_type": "code",
   "execution_count": 5,
   "metadata": {},
   "outputs": [
    {
     "name": "stderr",
     "output_type": "stream",
     "text": [
      "C:\\Users\\danpf\\AppData\\Local\\Temp\\ipykernel_11152\\898828757.py:3: DtypeWarning: Columns (4) have mixed types. Specify dtype option on import or set low_memory=False.\n",
      "  titles_df = pd.read_csv('raw/title.basics.tsv', sep='\\t')\n"
     ]
    }
   ],
   "source": [
    "# read tsv files into dataframe\n",
    "ratings_df = pd.read_csv('raw/title.ratings.tsv', sep='\\t')\n",
    "titles_df = pd.read_csv('raw/title.basics.tsv', sep='\\t')"
   ]
  },
  {
   "cell_type": "code",
   "execution_count": 6,
   "metadata": {},
   "outputs": [],
   "source": [
    "data_df = pd.merge(titles_df, ratings_df, on='tconst')"
   ]
  },
  {
   "cell_type": "code",
   "execution_count": 9,
   "metadata": {},
   "outputs": [],
   "source": [
    "def get_movie_by_title(title: str):\n",
    "    \"\"\"returns a movie, given a title\n",
    "\n",
    "    Args:\n",
    "        title (str): title of the movie (capitalisation ignored)\n",
    "\n",
    "    Returns:\n",
    "        DataFrame: the movie. if multiple have the same name, the most reviewed one is returned\n",
    "    \"\"\"\n",
    "    result = data_df[data_df['primaryTitle'].str.lower() == title.lower()]\n",
    "    result = result[result['titleType'] == 'movie']\n",
    "    if not result.empty:\n",
    "        most_reviewed = result.sort_values(by='numVotes', ascending=False).iloc[0]\n",
    "        return most_reviewed[['primaryTitle', 'startYear', 'averageRating', 'numVotes']]\n",
    "    else:\n",
    "        return None"
   ]
  },
  {
   "cell_type": "code",
   "execution_count": 11,
   "metadata": {},
   "outputs": [
    {
     "data": {
      "text/plain": [
       "primaryTitle     Interstellar\n",
       "startYear                2014\n",
       "averageRating             8.7\n",
       "numVotes              2271208\n",
       "Name: 411533, dtype: object"
      ]
     },
     "execution_count": 11,
     "metadata": {},
     "output_type": "execute_result"
    }
   ],
   "source": [
    "get_movie_by_title(\"Interstellar\")"
   ]
  },
  {
   "cell_type": "code",
   "execution_count": null,
   "metadata": {},
   "outputs": [],
   "source": []
  }
 ],
 "metadata": {
  "kernelspec": {
   "display_name": "Python 3",
   "language": "python",
   "name": "python3"
  },
  "language_info": {
   "codemirror_mode": {
    "name": "ipython",
    "version": 3
   },
   "file_extension": ".py",
   "mimetype": "text/x-python",
   "name": "python",
   "nbconvert_exporter": "python",
   "pygments_lexer": "ipython3",
   "version": "3.10.11"
  }
 },
 "nbformat": 4,
 "nbformat_minor": 2
}
